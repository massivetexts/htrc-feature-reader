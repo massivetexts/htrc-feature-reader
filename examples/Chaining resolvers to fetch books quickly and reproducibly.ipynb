{
 "cells": [
  {
   "cell_type": "markdown",
   "metadata": {},
   "source": [
    "# Setting up your system to work with Hathi feature-counts quickly and reproducibly.\n",
    "\n",
    "When working with large-scale data like the Hathi Feature counts, there can be a tradeoff between local speed and reproducible patterns of research.\n",
    "\n",
    "Especially if you're working in a team, it may be that people have different strategies for storing HTRC data across their different systems. How \n",
    "do you write code that everyone can run?\n",
    "\n",
    "This notebook lays out a strategy that makes this possible using the `resolvers.make_chain_resolver` function in htrc_features."
   ]
  },
  {
   "cell_type": "code",
   "execution_count": 29,
   "metadata": {},
   "outputs": [
    {
     "name": "stdout",
     "output_type": "stream",
     "text": [
      "The autoreload extension is already loaded. To reload it, use:\n",
      "  %reload_ext autoreload\n"
     ]
    }
   ],
   "source": [
    "%load_ext autoreload\n",
    "%autoreload 2\n",
    "\n",
    "import htrc_features\n",
    "from htrc_features import Volume, resolvers, FeatureReader\n",
    "from pathlib import Path\n"
   ]
  },
  {
   "cell_type": "markdown",
   "metadata": {},
   "source": [
    "# Method 1: Define your own system-wide resolver, and give users a fallback.\n",
    "\n",
    "I have the following text at `~/.hathi_resolver.json`,\n",
    "because I rsynced a full set of the feature counts at /drobo/hathi-ef and \n",
    "want to load and created a zstd feather version for each one when it's requested.\n",
    "\n",
    "\n",
    "This won't work on your computer! But it doesn't need to--just define your *own* method there, \n",
    "and you'll get fast results as well.\n",
    "\n",
    "```json\n",
    "[\n",
    "    {\"method\": \"stubbytree\", \"format\": \"json\", \"compression\": \"bz2\", \"dir\": \"/drobo/hathi-ef\"},\n",
    "    {\"method\": \"stubbytree\", \"format\": \"feather\", \"compression\": \"zstd\", \"dir\": \"/drobo/hathi-ef\"},\n",
    "]\n",
    "```\n",
    "\n",
    "\n",
    "**This code produces reproducible research without requiring saving local files**. Anyone can run it--even\n",
    "in, say, a google colab notebook--and htrc-feature-reader will fetch the relevant files over the web.\n",
    "\n",
    "But it will run *much* faster on your local machine than downloading the files again and again; and it lets use you re-use\n",
    "a single setup with multiple different projects looking at Hathi files\n",
    "\n",
    "The code below says--first, check for a file at `~/.hathi_resolver.json`, and use it as a plan to\n",
    "load files if one exists. If not, just use the default settings for the module.\n"
   ]
  },
  {
   "cell_type": "code",
   "execution_count": 24,
   "metadata": {},
   "outputs": [],
   "source": [
    "try:\n",
    "    my_resolver = yaml.safe_load(Path(\"~/.hathi_resolver.json\").expanduser().open())\n",
    "    default_resolver = resolvers.make_resolver_chain(my_resolver)\n",
    "except FileNotFoundError:\n",
    "    import sys\n",
    "    sys.stderr.write(\"Using default settings to resolve IDs. Consider adding a file at `~/.hathi_resolver.json`\")\n",
    "    default_resolver = None"
   ]
  },
  {
   "cell_type": "code",
   "execution_count": 30,
   "metadata": {},
   "outputs": [
    {
     "data": {
      "text/html": [
       "<strong><a href='http://hdl.handle.net/2027/mdp.39015078554949'>Robinson Crusoe in words of one syllable.</a></strong> by <em>Defoe, Daniel, 1661?-1731., Aikin, Lucy, 1781-1864.</em> (1868, 194 pages) - <code>mdp.39015078554949</code>"
      ],
      "text/plain": [
       "<htrc_features.feature_reader.Volume at 0x7f8f03272bd0>"
      ]
     },
     "execution_count": 30,
     "metadata": {},
     "output_type": "execute_result"
    }
   ],
   "source": [
    "Volume(\"mdp.39015078554949\", id_resolver=default_resolver)"
   ]
  },
  {
   "cell_type": "markdown",
   "metadata": {},
   "source": [
    "## Method 2: Use resolvers to copy files to a local directory before publication.\n",
    "\n",
    "This method is reproducible, but it also relies on the HTRC endpoint existing indefinitely. If you want to publish supporting materials, that's not\n",
    "good enough; you need to bundle the data as well.\n",
    "\n",
    "The best way to do that is to copy all the files you're using into a local directory.\n",
    "You can do that manually; or you can let htrc-feature-reader handle it for you, by defining a resolver\n",
    "that includes a copy step.\n",
    "\n",
    "The first time I run the following code, it will copy from /drobo/hathi-ef into the local directory 'hathi-features';\n",
    "but all subsequent times, it will find the file immediately inside 'hathi-features'."
   ]
  },
  {
   "cell_type": "code",
   "execution_count": 37,
   "metadata": {},
   "outputs": [
    {
     "data": {
      "text/html": [
       "<strong><a href='http://hdl.handle.net/2027/mdp.39015078554949'>Robinson Crusoe in words of one syllable.</a></strong> by <em>Defoe, Daniel, 1661?-1731., Aikin, Lucy, 1781-1864.</em> (1868, 194 pages) - <code>mdp.39015078554949</code>"
      ],
      "text/plain": [
       "<htrc_features.feature_reader.Volume at 0x7f8ed1959850>"
      ]
     },
     "execution_count": 37,
     "metadata": {},
     "output_type": "execute_result"
    }
   ],
   "source": [
    "pre_publication_resolver_chain = [\n",
    "    {\"method\": \"http\"},\n",
    "    # I don't include this line because *you* don't have a folder at /drobo/hathi-ef; but you could drop\n",
    "    # in one of your own to avoid hitting the htrc http servers.\n",
    "#    {\"method\": \"stubbytree\", \"format\": \"json\", \"compression\": \"bz2\", \"dir\": \"/drobo/hathi-ef\"},\n",
    "    {\"method\": \"local\", \"format\": \"json\", \"compression\": \"bz2\", \"dir\": \"hathi-features\"},\n",
    "]\n",
    "if not Path(\"hathi-features\").exists():\n",
    "    Path(\"hathi-features\").mkdir()\n",
    "publication_resolver = resolvers.make_resolver_chain(pre_publication_resolver_chain)\n",
    "\n",
    "Volume(\"mdp.39015078554949\", id_resolver=publication_resolver)"
   ]
  },
  {
   "cell_type": "markdown",
   "metadata": {},
   "source": [
    "## Method 3: Keeping it simple for publication once you know the files exist.\n",
    "\n",
    "You could leave this code in your\n",
    "publication code, but it might make sense as a last step before publication to switch to using a simple, local resolver.\n",
    "\n",
    "I suggest json.bz2 here, but you could use parquet, feather, or anything else.\n",
    "\n",
    "This resolver would not have worked when you started creating this notebook, but the block above should have created the \n",
    "needed files in 'hathi-features'.\n"
   ]
  },
  {
   "cell_type": "code",
   "execution_count": 38,
   "metadata": {},
   "outputs": [
    {
     "data": {
      "text/html": [
       "<strong><a href='http://hdl.handle.net/2027/mdp.39015078554949'>Robinson Crusoe in words of one syllable.</a></strong> by <em>Defoe, Daniel, 1661?-1731., Aikin, Lucy, 1781-1864.</em> (1868, 194 pages) - <code>mdp.39015078554949</code>"
      ],
      "text/plain": [
       "<htrc_features.feature_reader.Volume at 0x7f8ed195f110>"
      ]
     },
     "execution_count": 38,
     "metadata": {},
     "output_type": "execute_result"
    }
   ],
   "source": [
    "publication_resolver = resolvers.LocalResolver(format = \"json\", compression = \"bz2\", dir=\"hathi-features\")\n",
    "Volume(\"mdp.39015078554949\", id_resolver=publication_resolver)"
   ]
  },
  {
   "cell_type": "code",
   "execution_count": null,
   "metadata": {},
   "outputs": [],
   "source": []
  }
 ],
 "metadata": {
  "kernelspec": {
   "display_name": "Python [conda env:htrc]",
   "language": "python",
   "name": "conda-env-htrc-py"
  },
  "language_info": {
   "codemirror_mode": {
    "name": "ipython",
    "version": 3
   },
   "file_extension": ".py",
   "mimetype": "text/x-python",
   "name": "python",
   "nbconvert_exporter": "python",
   "pygments_lexer": "ipython3",
   "version": "3.7.6"
  }
 },
 "nbformat": 4,
 "nbformat_minor": 4
}
